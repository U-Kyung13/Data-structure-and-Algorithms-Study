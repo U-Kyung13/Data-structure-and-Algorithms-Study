{
  "nbformat": 4,
  "nbformat_minor": 0,
  "metadata": {
    "colab": {
      "provenance": [],
      "authorship_tag": "ABX9TyPeJigz3woBYeOOhBti70l6",
      "include_colab_link": true
    },
    "kernelspec": {
      "name": "python3",
      "display_name": "Python 3"
    },
    "language_info": {
      "name": "python"
    }
  },
  "cells": [
    {
      "cell_type": "markdown",
      "metadata": {
        "id": "view-in-github",
        "colab_type": "text"
      },
      "source": [
        "<a href=\"https://colab.research.google.com/github/U-Kyung13/Data-structure-and-Algorithms-Study/blob/main/%EC%9E%90%EB%AC%BC%EC%87%A0%EC%99%80_%EC%97%B4%EC%87%A0.ipynb\" target=\"_parent\"><img src=\"https://colab.research.google.com/assets/colab-badge.svg\" alt=\"Open In Colab\"/></a>"
      ]
    },
    {
      "cell_type": "markdown",
      "source": [
        "## 자물쇠와 열쇠\n",
        "\n",
        "- 각 회전 (총 4번)에서 정답이 있는지 확인\n",
        "  - 자물쇠에서 0이 들어어있는 부분 크기 확인\n",
        "    - 열 기준 : 처음/마지막으로 0이 나타나는 지점\n",
        "    - 행 기준 : 처음/마지막으로 0이 나타나는 지점 \n",
        "    - 이때, if lock_part의 크기 > key의 크기 : Fasle \n"
      ],
      "metadata": {
        "id": "pnrsxT3FSARu"
      }
    },
    {
      "cell_type": "markdown",
      "source": [
        "채점 결과\n",
        "\n",
        "\n",
        "정확성: 27.0\n",
        "\n",
        "\n",
        "합계: 27.0 / 100.0"
      ],
      "metadata": {
        "id": "6FWa9IICm3za"
      }
    },
    {
      "cell_type": "code",
      "execution_count": 101,
      "metadata": {
        "id": "OiIY4VhLQQDy"
      },
      "outputs": [],
      "source": [
        "key = [[0, 0, 0], [1, 0, 0], [0, 1, 1]]\n",
        "lock = [[1, 1, 1], [1, 1, 0], [1, 0, 1]]"
      ]
    },
    {
      "cell_type": "code",
      "source": [
        "import numpy as np\n",
        "answer = False\n",
        "\n",
        "for _ in range(4):\n",
        "  ### 2차원 리스트 90도 회전 ###\n",
        "  # 시계 방향으로 회전\n",
        "  key = list(map(list, zip(*key[::-1])))\n",
        "\n",
        "  # 참고) 반시계 방향으로 회전\n",
        "  # key = list(map(list, zip(*key)))[::-1]\n",
        "\n",
        "\n",
        "  ### 자물쇠에 0이 들어가 있는 부분 추출 ###\n",
        "  # 0이 존재하는 첫번쨰 열\n",
        "  first_col = 0\n",
        "  while 0 not in [t[first_col] for t in lock]:\n",
        "    first_col += 1\n",
        "  # 0이 존재하는 마지막 열\n",
        "  last_col = len(lock[0]) - 1\n",
        "  while 0 not in [t[last_col] for t in lock]:\n",
        "    last_col -= 1\n",
        "  # 0이 존재하는 첫번째 행\n",
        "  first_row = 0\n",
        "  while 0 not in lock[first_row]:\n",
        "    first_row += 1\n",
        "  # 0이 존재하는 마지막 행\n",
        "  last_row = len(lock[0]) - 1\n",
        "  while 0 not in lock[last_row]:\n",
        "    first_row -= 1\n",
        "\n",
        "  # 자물쇠에 0이 들어있는 부분\n",
        "  lock_part = []\n",
        "  for i in range(first_row, last_row+1):\n",
        "    lock_part.append(lock[i][first_col:(last_col+1)])\n",
        "\n",
        "  # 자물쇠 부분의 가로 세로 길이\n",
        "  lock_part_x = last_col+1-first_col\n",
        "  lock_part_y = last_row+1-first_row    \n",
        "\n",
        "  if max(lock_part_x, lock_part_y) > len(key):\n",
        "    break\n",
        "\n",
        "  ### 자물쇠 부분의 크기 만큼 열쇠 부분 추출해서 자물쇠랑 맞춰보기 ### \n",
        "  for i in range(0, len(key)-lock_part_y+1):\n",
        "    for j in range(0, len(key)-lock_part_x+1):\n",
        "      key_part = [x[i:i+lock_part_x] for x in key[j:j + lock_part_y]]\n",
        "      print(key_part)\n",
        "      result = np.array(key_part) + np.array(lock_part)\n",
        "      print(result)\n",
        "      for k in range(0, lock_part_y):\n",
        "        print(k)\n",
        "        if {1} == set(result[k]):\n",
        "          answer = True\n",
        "          break\n",
        "      if answer == True:\n",
        "        break\n",
        "    if answer == True:\n",
        "      break\n",
        "  if answer == True:\n",
        "      break"
      ],
      "metadata": {
        "colab": {
          "base_uri": "https://localhost:8080/"
        },
        "id": "Gd-pb-Wgf7cd",
        "outputId": "08caea79-6a39-46aa-95b6-b4faceb362ae"
      },
      "execution_count": 102,
      "outputs": [
        {
          "output_type": "stream",
          "name": "stdout",
          "text": [
            "[[0, 1], [1, 0]]\n",
            "[[1 1]\n",
            " [1 1]]\n",
            "0\n"
          ]
        }
      ]
    },
    {
      "cell_type": "code",
      "source": [],
      "metadata": {
        "id": "3ih8JcBBjdle"
      },
      "execution_count": null,
      "outputs": []
    },
    {
      "cell_type": "code",
      "source": [],
      "metadata": {
        "id": "S5sDMEQ5jdjw"
      },
      "execution_count": null,
      "outputs": []
    },
    {
      "cell_type": "code",
      "source": [],
      "metadata": {
        "id": "9rmE_Excjdho"
      },
      "execution_count": null,
      "outputs": []
    },
    {
      "cell_type": "code",
      "source": [],
      "metadata": {
        "id": "m9SQlo5xjdfi"
      },
      "execution_count": null,
      "outputs": []
    }
  ]
}
