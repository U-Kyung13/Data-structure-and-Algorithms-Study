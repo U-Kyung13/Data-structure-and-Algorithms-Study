{
  "nbformat": 4,
  "nbformat_minor": 0,
  "metadata": {
    "colab": {
      "provenance": [],
      "authorship_tag": "ABX9TyPW90CBC4B/t6v3Hgcw5qhT",
      "include_colab_link": true
    },
    "kernelspec": {
      "name": "python3",
      "display_name": "Python 3"
    },
    "language_info": {
      "name": "python"
    }
  },
  "cells": [
    {
      "cell_type": "markdown",
      "metadata": {
        "id": "view-in-github",
        "colab_type": "text"
      },
      "source": [
        "<a href=\"https://colab.research.google.com/github/U-Kyung13/Data-structure-and-Algorithms-Study/blob/main/LV1_%EB%AA%A8%EC%9D%98%EA%B3%A0%EC%82%AC.ipynb\" target=\"_parent\"><img src=\"https://colab.research.google.com/assets/colab-badge.svg\" alt=\"Open In Colab\"/></a>"
      ]
    },
    {
      "cell_type": "markdown",
      "source": [
        "채점 결과\n",
        "\n",
        "\n",
        "정확성: 100.0\n",
        "\n",
        "\n",
        "합계: 100.0 / 100.0\n"
      ],
      "metadata": {
        "id": "T7XXM59CzNCg"
      }
    },
    {
      "cell_type": "code",
      "execution_count": 38,
      "metadata": {
        "id": "KhK1KUxvt8pH"
      },
      "outputs": [],
      "source": [
        "# answer의 길이만큼 답안지 생성 후 맞은 개수 반환\n",
        "\n",
        "def solution(answers):\n",
        "    length = len(answers)\n",
        "    \n",
        "    s1 = [1,2,3,4,5]*(length//5) + [1,2,3,4,5][:length%5]\n",
        "    s2 = [2,1,2,3,2,4,2,5]*(length//8) + [2,1,2,3,2,4,2,5][:length%8]\n",
        "    s3 = [3,3,1,1,2,2,4,4,5,5]*(length//10) + [3,3,1,1,2,2,4,4,5,5][:length%10]\n",
        "    \n",
        "    score = [sum(s1[i] == answers[i] for i in range(length))]\n",
        "    score.append(sum(s2[i] == answers[i] for i in range(length)))\n",
        "    score.append(sum(s3[i] == answers[i] for i in range(length)))\n",
        "    \n",
        "    ans = list(filter(lambda x: score[x] == max(score), range(len(score))))\n",
        "    return [x + 1 for x in ans]\n"
      ]
    },
    {
      "cell_type": "code",
      "source": [
        "solution([1,3,2,4,2])"
      ],
      "metadata": {
        "colab": {
          "base_uri": "https://localhost:8080/"
        },
        "id": "WHI2Qi0IusSX",
        "outputId": "fd286a08-854a-4652-cc39-b2d89f5d80d2"
      },
      "execution_count": 40,
      "outputs": [
        {
          "output_type": "execute_result",
          "data": {
            "text/plain": [
              "[1, 2, 3]"
            ]
          },
          "metadata": {},
          "execution_count": 40
        }
      ]
    },
    {
      "cell_type": "markdown",
      "source": [
        "### list에서 다중 index 찾기\n",
        "- filter 사용"
      ],
      "metadata": {
        "id": "5LBq66E7wvH1"
      }
    },
    {
      "cell_type": "code",
      "source": [
        "result = [1,2,3,4,5,4,3]"
      ],
      "metadata": {
        "id": "wEOEgHeEwyKt"
      },
      "execution_count": 30,
      "outputs": []
    },
    {
      "cell_type": "code",
      "source": [
        "list(map(lambda x :result[x] == 3, range(len(result))))"
      ],
      "metadata": {
        "colab": {
          "base_uri": "https://localhost:8080/"
        },
        "id": "zHH_fBiAxQOQ",
        "outputId": "ce8457b1-06a8-4604-ebd1-fd664c0ecb6a"
      },
      "execution_count": 31,
      "outputs": [
        {
          "output_type": "execute_result",
          "data": {
            "text/plain": [
              "[False, False, True, False, False, False, True]"
            ]
          },
          "metadata": {},
          "execution_count": 31
        }
      ]
    },
    {
      "cell_type": "code",
      "source": [
        "list(filter(lambda x :result[x] == 3, range(len(result))))"
      ],
      "metadata": {
        "colab": {
          "base_uri": "https://localhost:8080/"
        },
        "id": "i9fsV-Bnw49t",
        "outputId": "55e7c034-2514-4dcc-9082-082823e27cab"
      },
      "execution_count": 29,
      "outputs": [
        {
          "output_type": "execute_result",
          "data": {
            "text/plain": [
              "[2, 6]"
            ]
          },
          "metadata": {},
          "execution_count": 29
        }
      ]
    },
    {
      "cell_type": "code",
      "source": [],
      "metadata": {
        "id": "zc4HHgwvxJ5W"
      },
      "execution_count": null,
      "outputs": []
    }
  ]
}
