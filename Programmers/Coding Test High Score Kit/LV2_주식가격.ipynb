{
  "nbformat": 4,
  "nbformat_minor": 0,
  "metadata": {
    "colab": {
      "provenance": [],
      "authorship_tag": "ABX9TyNmep9Svq6JpN+oCeb/hJjK",
      "include_colab_link": true
    },
    "kernelspec": {
      "name": "python3",
      "display_name": "Python 3"
    },
    "language_info": {
      "name": "python"
    }
  },
  "cells": [
    {
      "cell_type": "markdown",
      "metadata": {
        "id": "view-in-github",
        "colab_type": "text"
      },
      "source": [
        "<a href=\"https://colab.research.google.com/github/U-Kyung13/Data-structure-and-Algorithms-Study/blob/main/LV2_%EC%A3%BC%EC%8B%9D%EA%B0%80%EA%B2%A9.ipynb\" target=\"_parent\"><img src=\"https://colab.research.google.com/assets/colab-badge.svg\" alt=\"Open In Colab\"/></a>"
      ]
    },
    {
      "cell_type": "markdown",
      "source": [
        "채점 결과\n",
        "\n",
        "\n",
        "정확성: 6.7\n",
        "\n",
        "\n",
        "효율성: 0.0\n",
        "\n",
        "\n",
        "합계: 6.7 / 100.0"
      ],
      "metadata": {
        "id": "W0-E2ioAMpXP"
      }
    },
    {
      "cell_type": "code",
      "source": [
        "# 스택 사용\n",
        "\n",
        "prices = [1, 2, 3, 2, 3]\n",
        "stack = prices.copy()\n",
        "ans = [i for i in range(len(prices)-1, -1, -1)]\n",
        "\n",
        "while stack:\n",
        "  idx = len(stack)\n",
        "  num = stack.pop()\n",
        "\n",
        "  for i in range(0, idx):\n",
        "    if prices[i] > num:\n",
        "      ans[i] -= 1\n",
        "\n",
        "ans"
      ],
      "metadata": {
        "colab": {
          "base_uri": "https://localhost:8080/"
        },
        "id": "G89vuMlFHlg_",
        "outputId": "c12a1fcf-2ff3-4230-9abc-a48ef8524bbe"
      },
      "execution_count": null,
      "outputs": [
        {
          "output_type": "execute_result",
          "data": {
            "text/plain": [
              "[4, 3, 1, 1, 0]"
            ]
          },
          "metadata": {},
          "execution_count": 111
        }
      ]
    },
    {
      "cell_type": "markdown",
      "source": [
        "채점 결과\n",
        "\n",
        "\n",
        "정확성: 66.7\n",
        "\n",
        "\n",
        "효율성: 33.3\n",
        "\n",
        "\n",
        "합계: 100.0 / 100.0"
      ],
      "metadata": {
        "id": "VdorjzHzOI0x"
      }
    },
    {
      "cell_type": "code",
      "source": [
        "# 큐 사용\n",
        "from collections import deque\n",
        "prices = [1, 2, 3, 2, 3]\n",
        "q = deque(prices)\n",
        "ans = []\n",
        "\n",
        "while q:\n",
        "  f = q.popleft()\n",
        "  cnt = 0\n",
        "  for x in q:\n",
        "    if f > x:\n",
        "      cnt += 1\n",
        "      break\n",
        "    else:\n",
        "      cnt += 1\n",
        "  ans.append(cnt)"
      ],
      "metadata": {
        "id": "blx1aNQfKMWi"
      },
      "execution_count": null,
      "outputs": []
    }
  ]
}
