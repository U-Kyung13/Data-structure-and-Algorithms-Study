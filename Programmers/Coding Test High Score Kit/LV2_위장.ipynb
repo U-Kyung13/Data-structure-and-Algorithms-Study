{
  "nbformat": 4,
  "nbformat_minor": 0,
  "metadata": {
    "colab": {
      "provenance": [],
      "authorship_tag": "ABX9TyPXKdlqp3G1XGFjDvBl69FA",
      "include_colab_link": true
    },
    "kernelspec": {
      "name": "python3",
      "display_name": "Python 3"
    },
    "language_info": {
      "name": "python"
    }
  },
  "cells": [
    {
      "cell_type": "markdown",
      "metadata": {
        "id": "view-in-github",
        "colab_type": "text"
      },
      "source": [
        "<a href=\"https://colab.research.google.com/github/U-Kyung13/Data-structure-and-Algorithms-Study/blob/main/LV2_%EC%9C%84%EC%9E%A5.ipynb\" target=\"_parent\"><img src=\"https://colab.research.google.com/assets/colab-badge.svg\" alt=\"Open In Colab\"/></a>"
      ]
    },
    {
      "cell_type": "code",
      "execution_count": null,
      "metadata": {
        "id": "kHtfwb7kSV_8"
      },
      "outputs": [],
      "source": [
        "import collections\n",
        "\n",
        "def solution(clothes):\n",
        "    answer = 1\n",
        "    c_dict = collections.Counter([i[1] for i in clothes]) \n",
        "    for i in c_dict.values():\n",
        "        answer *= (i + 1)\n",
        "    return answer - 1"
      ]
    }
  ]
}
