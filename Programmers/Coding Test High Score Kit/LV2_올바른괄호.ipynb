{
  "nbformat": 4,
  "nbformat_minor": 0,
  "metadata": {
    "colab": {
      "provenance": [],
      "authorship_tag": "ABX9TyNYvyX5hGTixu4uBpFGmmYx",
      "include_colab_link": true
    },
    "kernelspec": {
      "name": "python3",
      "display_name": "Python 3"
    },
    "language_info": {
      "name": "python"
    }
  },
  "cells": [
    {
      "cell_type": "markdown",
      "metadata": {
        "id": "view-in-github",
        "colab_type": "text"
      },
      "source": [
        "<a href=\"https://colab.research.google.com/github/U-Kyung13/Data-structure-and-Algorithms-Study/blob/main/LV2_%EC%98%AC%EB%B0%94%EB%A5%B8%EA%B4%84%ED%98%B8.ipynb\" target=\"_parent\"><img src=\"https://colab.research.google.com/assets/colab-badge.svg\" alt=\"Open In Colab\"/></a>"
      ]
    },
    {
      "cell_type": "code",
      "execution_count": 66,
      "metadata": {
        "id": "_jgzgKuURvjI"
      },
      "outputs": [],
      "source": [
        "match = {')':'('}"
      ]
    },
    {
      "cell_type": "code",
      "source": [
        "s = \"())\"\n",
        "temp = []\n",
        "for c in list(s):\n",
        "  if c == '(':\n",
        "    temp.append(c)\n",
        "  elif c in match:\n",
        "    if temp == []:\n",
        "      ans = 'False'\n",
        "    else:\n",
        "      temp.pop()\n",
        "  ans = (temp == [])\n",
        "ans"
      ],
      "metadata": {
        "colab": {
          "base_uri": "https://localhost:8080/"
        },
        "id": "NGM-dWYrR8yb",
        "outputId": "59084fec-5388-4ac5-86c3-58b6bea0a75f"
      },
      "execution_count": 71,
      "outputs": [
        {
          "output_type": "execute_result",
          "data": {
            "text/plain": [
              "True"
            ]
          },
          "metadata": {},
          "execution_count": 71
        }
      ]
    }
  ]
}
