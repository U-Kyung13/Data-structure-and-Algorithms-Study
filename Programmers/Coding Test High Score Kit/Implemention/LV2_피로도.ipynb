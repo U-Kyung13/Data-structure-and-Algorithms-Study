{
  "nbformat": 4,
  "nbformat_minor": 0,
  "metadata": {
    "colab": {
      "provenance": [],
      "authorship_tag": "ABX9TyNt5HXmeUPTnpBt9CmL2VpN",
      "include_colab_link": true
    },
    "kernelspec": {
      "name": "python3",
      "display_name": "Python 3"
    },
    "language_info": {
      "name": "python"
    }
  },
  "cells": [
    {
      "cell_type": "markdown",
      "metadata": {
        "id": "view-in-github",
        "colab_type": "text"
      },
      "source": [
        "<a href=\"https://colab.research.google.com/github/U-Kyung13/Data-structure-and-Algorithms-Study/blob/main/LV2_%ED%94%BC%EB%A1%9C%EB%8F%84.ipynb\" target=\"_parent\"><img src=\"https://colab.research.google.com/assets/colab-badge.svg\" alt=\"Open In Colab\"/></a>"
      ]
    },
    {
      "cell_type": "code",
      "execution_count": null,
      "metadata": {
        "id": "RY5ArhZy71KE"
      },
      "outputs": [],
      "source": [
        "import itertools\n",
        "\n",
        "def solution(k, dungeons):\n",
        "    num_d = len(dungeons)\n",
        "    nPr = list(itertools.permutations(dungeons))\n",
        "    yn = [0]*len(nPr)\n",
        "    \n",
        "    for i in range(len(nPr)):\n",
        "        k_temp = k\n",
        "        yn[i] = [0]*num_d\n",
        "        for j in range(num_d):\n",
        "            if k_temp >= nPr[i][j][0]: # 최소 필요 피로도\n",
        "                k_temp -= nPr[i][j][1]\n",
        "                yn[i][j] = 1\n",
        "            else:\n",
        "                break\n",
        "                \n",
        "    return max([sum(x) for x in yn])\n"
      ]
    },
    {
      "cell_type": "code",
      "source": [],
      "metadata": {
        "id": "UoMPCuRv74z8"
      },
      "execution_count": null,
      "outputs": []
    }
  ]
}
