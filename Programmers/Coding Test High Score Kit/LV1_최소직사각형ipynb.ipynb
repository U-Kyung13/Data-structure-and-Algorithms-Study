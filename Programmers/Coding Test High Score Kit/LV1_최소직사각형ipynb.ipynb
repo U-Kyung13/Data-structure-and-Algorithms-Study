{
  "nbformat": 4,
  "nbformat_minor": 0,
  "metadata": {
    "colab": {
      "provenance": [],
      "authorship_tag": "ABX9TyPpoK9Y+7gKY41SLMrcn7kb",
      "include_colab_link": true
    },
    "kernelspec": {
      "name": "python3",
      "display_name": "Python 3"
    },
    "language_info": {
      "name": "python"
    }
  },
  "cells": [
    {
      "cell_type": "markdown",
      "metadata": {
        "id": "view-in-github",
        "colab_type": "text"
      },
      "source": [
        "<a href=\"https://colab.research.google.com/github/U-Kyung13/Data-structure-and-Algorithms-Study/blob/main/LV1_%EC%B5%9C%EC%86%8C%EC%A7%81%EC%82%AC%EA%B0%81%ED%98%95ipynb.ipynb\" target=\"_parent\"><img src=\"https://colab.research.google.com/assets/colab-badge.svg\" alt=\"Open In Colab\"/></a>"
      ]
    },
    {
      "cell_type": "code",
      "execution_count": null,
      "metadata": {
        "id": "nQpq6dE1peEW"
      },
      "outputs": [],
      "source": [
        "import numpy as np\n",
        "def solution(sizes):\n",
        "    temp = np.max(np.sort(sizes, axis=1), axis=0)\n",
        "    ans = temp[0] * temp[1]\n",
        "    return ans"
      ]
    }
  ]
}
