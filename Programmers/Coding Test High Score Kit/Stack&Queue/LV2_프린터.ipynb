{
  "nbformat": 4,
  "nbformat_minor": 0,
  "metadata": {
    "colab": {
      "provenance": [],
      "authorship_tag": "ABX9TyPvFRszalAkkH5SPYwsi9lO",
      "include_colab_link": true
    },
    "kernelspec": {
      "name": "python3",
      "display_name": "Python 3"
    },
    "language_info": {
      "name": "python"
    }
  },
  "cells": [
    {
      "cell_type": "markdown",
      "metadata": {
        "id": "view-in-github",
        "colab_type": "text"
      },
      "source": [
        "<a href=\"https://colab.research.google.com/github/U-Kyung13/Data-structure-and-Algorithms-Study/blob/main/LV2_%ED%94%84%EB%A6%B0%ED%84%B0.ipynb\" target=\"_parent\"><img src=\"https://colab.research.google.com/assets/colab-badge.svg\" alt=\"Open In Colab\"/></a>"
      ]
    },
    {
      "cell_type": "markdown",
      "source": [
        "채점 결과\n",
        "\n",
        "\n",
        "정확성: 20.0\n",
        "\n",
        "\n",
        "합계: 20.0 / 100.0"
      ],
      "metadata": {
        "id": "PBQCH3oIBPvg"
      }
    },
    {
      "cell_type": "code",
      "execution_count": 19,
      "metadata": {
        "id": "mDJ8O3TBUecK"
      },
      "outputs": [],
      "source": [
        "def solution(p, l):\n",
        "    cnt = 1\n",
        "    cnt += sum([x > p[l] for x in p])\n",
        "\n",
        "    idx = []\n",
        "    for i, v in enumerate(p):\n",
        "        if v > p[l]:\n",
        "            idx.append(i)\n",
        "    if idx != []:\n",
        "        cnt += len(p[max(idx)+1:])\n",
        "    return cnt"
      ]
    },
    {
      "cell_type": "markdown",
      "source": [
        "채점 결과 \n",
        "\n",
        "\n",
        "정확성: 50.0\n",
        "\n",
        "\n",
        "합계: 50.0 / 100.0"
      ],
      "metadata": {
        "id": "rgzX3E-wBKDk"
      }
    },
    {
      "cell_type": "code",
      "source": [
        "def solution(p, l):\n",
        "    # 해당 location의 priorities 값\n",
        "    p_val = p[l] \n",
        "    # 주어진 location보다 앞에 있으면서 동일한 우선순위를 갖는 프린터 개수\n",
        "    p_same = sum([x == p[l] for x in p[:l]]) \n",
        "    # 더 높은 우선순위를 갖는 프린터 중 \n",
        "    # 가장 뒤에 있는 프린터보다 \n",
        "    # 뒤에 있으면서 동일한 우선순위를 갖는 프린터 개수 \n",
        "    # 1) 더 높은 우선순위의 프린터 index\n",
        "    idx = []\n",
        "    for i, v in enumerate(p):\n",
        "        if v > p[l]:\n",
        "            idx.append(i)\n",
        "    # 2) 주어진 프린터가 가장 높은 우선순위일땐 더할 필요 없음\n",
        "    if idx != []:\n",
        "        p_same += sum([x==p[l] for x in p[max(idx)+1:]])\n",
        "        \n",
        "    # priorities 순서로 정렬\n",
        "    i = 0\n",
        "    while i < len(p):\n",
        "        if sum([x > p[i] for x in p[i+1:]]) == 0:\n",
        "            i += 1\n",
        "        else:\n",
        "            p[i:-1], p[-1] = p[i+1:], p[i]\n",
        "    \n",
        "    return p.index(p_val) + p_same + 1"
      ],
      "metadata": {
        "id": "_jTNj0VLsz07"
      },
      "execution_count": 106,
      "outputs": []
    },
    {
      "cell_type": "code",
      "source": [],
      "metadata": {
        "id": "5cgypRL0r0WB"
      },
      "execution_count": null,
      "outputs": []
    }
  ]
}
