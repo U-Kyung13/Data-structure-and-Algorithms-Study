{
  "nbformat": 4,
  "nbformat_minor": 0,
  "metadata": {
    "colab": {
      "provenance": [],
      "authorship_tag": "ABX9TyNd++FwOK/IW/MfIigUEbx3",
      "include_colab_link": true
    },
    "kernelspec": {
      "name": "python3",
      "display_name": "Python 3"
    },
    "language_info": {
      "name": "python"
    }
  },
  "cells": [
    {
      "cell_type": "markdown",
      "metadata": {
        "id": "view-in-github",
        "colab_type": "text"
      },
      "source": [
        "<a href=\"https://colab.research.google.com/github/U-Kyung13/Data-structure-and-Algorithms-Study/blob/main/LV1_%EA%B0%99%EC%9D%80_%EC%88%AB%EC%9E%90%EB%8A%94_%EC%8B%AB%EC%96%B4.ipynb\" target=\"_parent\"><img src=\"https://colab.research.google.com/assets/colab-badge.svg\" alt=\"Open In Colab\"/></a>"
      ]
    },
    {
      "cell_type": "markdown",
      "source": [
        "- 채점 결과 (23.04.01)\n",
        "  - 정확성: 71.9\n",
        "  - 효율성: 0.0\n",
        "  - 합계: 71.9 / 100.0"
      ],
      "metadata": {
        "id": "ftZ_k-J2kj1Z"
      }
    },
    {
      "cell_type": "code",
      "execution_count": null,
      "metadata": {
        "id": "c289_IP9WkpG"
      },
      "outputs": [],
      "source": [
        "def solution(arr):\n",
        "    r = len(arr) - 1\n",
        "    l = r - 1\n",
        "    while r > 0:\n",
        "        if arr[l] == arr[r]:\n",
        "            arr.pop(r)\n",
        "        r -= 1\n",
        "        l -= 1\n",
        "    answer = arr\n",
        "    return answer"
      ]
    },
    {
      "cell_type": "markdown",
      "source": [
        "- 채점 결과 (23.04.01)\n",
        "  - 정확성: 71.9\n",
        "  - 효율성: 28.1\n",
        "  - 합계: 100.0 / 100.0"
      ],
      "metadata": {
        "id": "tMFFsKfcm8o-"
      }
    },
    {
      "cell_type": "code",
      "source": [
        "def solution(arr):\n",
        "    ans = []\n",
        "    i = 0\n",
        "    j = i + 1\n",
        "    while j < len(arr):\n",
        "        if arr[i] == arr[j]:\n",
        "            j += 1\n",
        "        else:\n",
        "            ans.append(arr[i])\n",
        "            i = j\n",
        "            j = i + 1\n",
        "    ans.append(arr[i])\n",
        "    return ans"
      ],
      "metadata": {
        "id": "Gi4GkyWgkko_"
      },
      "execution_count": null,
      "outputs": []
    }
  ]
}
