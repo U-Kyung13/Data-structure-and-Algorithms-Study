{
  "nbformat": 4,
  "nbformat_minor": 0,
  "metadata": {
    "colab": {
      "provenance": [],
      "authorship_tag": "ABX9TyOepipAikKUJD7PqM6enEvN",
      "include_colab_link": true
    },
    "kernelspec": {
      "name": "python3",
      "display_name": "Python 3"
    },
    "language_info": {
      "name": "python"
    }
  },
  "cells": [
    {
      "cell_type": "markdown",
      "metadata": {
        "id": "view-in-github",
        "colab_type": "text"
      },
      "source": [
        "<a href=\"https://colab.research.google.com/github/U-Kyung13/Data-structure-and-Algorithms-Study/blob/main/LV1_K%EB%B2%88%EC%A8%B0%EC%88%98.ipynb\" target=\"_parent\"><img src=\"https://colab.research.google.com/assets/colab-badge.svg\" alt=\"Open In Colab\"/></a>"
      ]
    },
    {
      "cell_type": "markdown",
      "source": [
        "채점 결과\n",
        "정확성: 100.0\n",
        "합계: 100.0 / 100.0"
      ],
      "metadata": {
        "id": "42LpEcVJEMby"
      }
    },
    {
      "cell_type": "code",
      "execution_count": 18,
      "metadata": {
        "id": "R-tVGriWEEzp"
      },
      "outputs": [],
      "source": [
        "def solution(array, commands):\n",
        "  ans = []\n",
        "  for i in range(len(commands)):\n",
        "    i,j,k = commands[i]\n",
        "    ans.append(sorted(array[i-1:j])[k-1])\n",
        "  return ans"
      ]
    },
    {
      "cell_type": "code",
      "source": [
        "commands = [[2,5,3], [4,4,1], [1,7,3]]\n",
        "array = [1, 5, 2, 6, 3, 7, 4] \n",
        "\n",
        "solution(array, commands)"
      ],
      "metadata": {
        "colab": {
          "base_uri": "https://localhost:8080/"
        },
        "id": "LaccKg0IEbc_",
        "outputId": "df156360-e1bd-43da-9a0a-ddb5c0c8cda3"
      },
      "execution_count": 19,
      "outputs": [
        {
          "output_type": "execute_result",
          "data": {
            "text/plain": [
              "[5, 6, 3]"
            ]
          },
          "metadata": {},
          "execution_count": 19
        }
      ]
    }
  ]
}