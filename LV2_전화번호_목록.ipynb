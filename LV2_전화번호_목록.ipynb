{
  "nbformat": 4,
  "nbformat_minor": 0,
  "metadata": {
    "colab": {
      "provenance": [],
      "authorship_tag": "ABX9TyMbJ4pbsmCZ6TX6GhAmxxw/",
      "include_colab_link": true
    },
    "kernelspec": {
      "name": "python3",
      "display_name": "Python 3"
    },
    "language_info": {
      "name": "python"
    }
  },
  "cells": [
    {
      "cell_type": "markdown",
      "metadata": {
        "id": "view-in-github",
        "colab_type": "text"
      },
      "source": [
        "<a href=\"https://colab.research.google.com/github/U-Kyung13/Data-structure-and-Algorithms-Study/blob/main/LV2_%EC%A0%84%ED%99%94%EB%B2%88%ED%98%B8_%EB%AA%A9%EB%A1%9D.ipynb\" target=\"_parent\"><img src=\"https://colab.research.google.com/assets/colab-badge.svg\" alt=\"Open In Colab\"/></a>"
      ]
    },
    {
      "cell_type": "code",
      "execution_count": 48,
      "metadata": {
        "id": "f1K9HEWRU159"
      },
      "outputs": [],
      "source": [
        "# 서연 풀이\n",
        "\n",
        "def solution(phone_book):\n",
        "    # 한 원소 전체(j)가 다른 원소(i)의 앞부분에 i[:len(j)] 있어야함\n",
        "    # 길이 순으로 정렬해서? \n",
        "    # 그냥 정렬하면 제일 비슷한게 서로 붙어있게 됨\n",
        "    # for문 roop 돌리면서, i번째 원소와 i+1번째 원소를 비교\n",
        "    p = phone_book.sort()\n",
        "    j = None\n",
        "    for i in phone_book:\n",
        "        if j is not None and j==i[:len(j)]:\n",
        "            return False\n",
        "        # j는 이전 원소\n",
        "        j = i\n",
        "    return True"
      ]
    }
  ]
}