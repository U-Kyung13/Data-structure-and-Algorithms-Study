{
  "nbformat": 4,
  "nbformat_minor": 0,
  "metadata": {
    "colab": {
      "provenance": [],
      "authorship_tag": "ABX9TyMDRgz3fDoS9cmFDGmrobWG",
      "include_colab_link": true
    },
    "kernelspec": {
      "name": "python3",
      "display_name": "Python 3"
    },
    "language_info": {
      "name": "python"
    }
  },
  "cells": [
    {
      "cell_type": "markdown",
      "metadata": {
        "id": "view-in-github",
        "colab_type": "text"
      },
      "source": [
        "<a href=\"https://colab.research.google.com/github/U-Kyung13/Data-structure-and-Algorithms-Study/blob/main/LV2_%EC%86%8C%EC%88%98%EC%B0%BE%EA%B8%B0.ipynb\" target=\"_parent\"><img src=\"https://colab.research.google.com/assets/colab-badge.svg\" alt=\"Open In Colab\"/></a>"
      ]
    },
    {
      "cell_type": "markdown",
      "source": [
        "- 가능한 모든 조합을 만들고, 소수인지 확인"
      ],
      "metadata": {
        "id": "a_VFbZZvzAVm"
      }
    },
    {
      "cell_type": "markdown",
      "source": [
        "채점 결과\n",
        "\n",
        "\n",
        "정확성: 16.7\n",
        "\n",
        "\n",
        "합계: 16.7 / 100.0\n",
        "\n",
        "- 1 불가 / 짝수 불가 / 3, 5, 7로 나눠지면 불가 -> 실패"
      ],
      "metadata": {
        "id": "nJnwqkFszEzo"
      }
    },
    {
      "cell_type": "code",
      "execution_count": null,
      "metadata": {
        "id": "JQbHRRHJy6IT"
      },
      "outputs": [],
      "source": [
        "num = \"011\"\n",
        "import itertools\n",
        "# 한자리수  \n",
        "num_list = [int(x) for x in list(num)]\n",
        "# 두자리수 이상\n",
        "for i in range(2, len(num)+1):\n",
        "  temp = list(itertools.permutations(list(num), i))\n",
        "  num_list += [int(''.join(x)) for x in temp] # set(num_list)\n",
        "\n",
        "ans = 0\n",
        "for x in set(num_list):\n",
        "  if (x != 0) & (x != 1) & (x % 2 != 0) & (x % 2 != 3) & (x % 2 != 5) & (x % 2 != 7):\n",
        "    ans += 1 "
      ]
    },
    {
      "cell_type": "markdown",
      "source": [
        "채점 결과\n",
        "\n",
        "\n",
        "정확성: 100.0\n",
        "\n",
        "\n",
        "합계: 100.0 / 100.0"
      ],
      "metadata": {
        "id": "aJCAvYSyzJg7"
      }
    },
    {
      "cell_type": "code",
      "source": [
        "num = \"011\"\n",
        "import itertools\n",
        "import numpy as np\n",
        "# 한자리수  \n",
        "num_list = [int(x) for x in list(num)]\n",
        "# 두자리수 이상\n",
        "for i in range(2, len(num)+1):\n",
        "  temp = list(itertools.permutations(list(num), i))\n",
        "  num_list += [int(''.join(x)) for x in temp] # set(num_list)\n",
        "\n",
        "ans = 0\n",
        "for x in set(num_list):\n",
        "  tf = \"T\"\n",
        "  if x in [0,1]:\n",
        "    tf = \"F\"\n",
        "  for j in range(2,int(np.sqrt(x))+1):\n",
        "    if x % j == 0:\n",
        "      tf = \"F\"\n",
        "  if tf == \"T\":\n",
        "    ans += 1"
      ],
      "metadata": {
        "id": "aeMxMFdkzKym"
      },
      "execution_count": null,
      "outputs": []
    }
  ]
}