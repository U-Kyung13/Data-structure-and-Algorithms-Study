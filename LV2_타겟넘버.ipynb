{
  "nbformat": 4,
  "nbformat_minor": 0,
  "metadata": {
    "colab": {
      "provenance": [],
      "authorship_tag": "ABX9TyNlsKKm6t7vmBbYcDv1zGo5",
      "include_colab_link": true
    },
    "kernelspec": {
      "name": "python3",
      "display_name": "Python 3"
    },
    "language_info": {
      "name": "python"
    }
  },
  "cells": [
    {
      "cell_type": "markdown",
      "metadata": {
        "id": "view-in-github",
        "colab_type": "text"
      },
      "source": [
        "<a href=\"https://colab.research.google.com/github/U-Kyung13/Data-structure-and-Algorithms-Study/blob/main/LV2_%ED%83%80%EA%B2%9F%EB%84%98%EB%B2%84.ipynb\" target=\"_parent\"><img src=\"https://colab.research.google.com/assets/colab-badge.svg\" alt=\"Open In Colab\"/></a>"
      ]
    },
    {
      "cell_type": "code",
      "execution_count": 1,
      "metadata": {
        "id": "xuf04nQYhw4y"
      },
      "outputs": [],
      "source": [
        "numbers = [1,1,1,1,1]\n",
        "target = 3"
      ]
    },
    {
      "cell_type": "code",
      "source": [
        "from collections import deque\n",
        "answer = 0 \n",
        "queue = deque()\n",
        "queue.append([numbers[0], 0])\n",
        "queue.append([-1*numbers[0], 0])\n",
        "while queue:\n",
        "  temp, idx = queue.popleft()\n",
        "  idx += 1\n",
        "  if idx < len(numbers):\n",
        "    queue.append([temp + numbers[idx], idx])\n",
        "    queue.append([temp - numbers[idx], idx])\n",
        "  else:\n",
        "    if temp == target:\n",
        "      answer += 1"
      ],
      "metadata": {
        "id": "k1qAjL9Xj3nQ"
      },
      "execution_count": 4,
      "outputs": []
    },
    {
      "cell_type": "code",
      "source": [],
      "metadata": {
        "id": "hRI-9rsimfFA"
      },
      "execution_count": null,
      "outputs": []
    },
    {
      "cell_type": "code",
      "source": [
        "answer"
      ],
      "metadata": {
        "colab": {
          "base_uri": "https://localhost:8080/"
        },
        "id": "XRYGOjRmkGIs",
        "outputId": "ad03335d-0884-4bb9-9148-800c0db70396"
      },
      "execution_count": 5,
      "outputs": [
        {
          "output_type": "execute_result",
          "data": {
            "text/plain": [
              "5"
            ]
          },
          "metadata": {},
          "execution_count": 5
        }
      ]
    },
    {
      "cell_type": "code",
      "source": [],
      "metadata": {
        "id": "009j-j_XmFHR"
      },
      "execution_count": null,
      "outputs": []
    }
  ]
}