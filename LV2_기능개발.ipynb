{
  "nbformat": 4,
  "nbformat_minor": 0,
  "metadata": {
    "colab": {
      "provenance": [],
      "authorship_tag": "ABX9TyNmA4B8qhDuKJg69gaJLcL+",
      "include_colab_link": true
    },
    "kernelspec": {
      "name": "python3",
      "display_name": "Python 3"
    },
    "language_info": {
      "name": "python"
    }
  },
  "cells": [
    {
      "cell_type": "markdown",
      "metadata": {
        "id": "view-in-github",
        "colab_type": "text"
      },
      "source": [
        "<a href=\"https://colab.research.google.com/github/U-Kyung13/Data-structure-and-Algorithms-Study/blob/main/LV2_%EA%B8%B0%EB%8A%A5%EA%B0%9C%EB%B0%9C.ipynb\" target=\"_parent\"><img src=\"https://colab.research.google.com/assets/colab-badge.svg\" alt=\"Open In Colab\"/></a>"
      ]
    },
    {
      "cell_type": "markdown",
      "source": [
        "- 큐 사용\n",
        "- 남은 일수 리스트를 큐 자료구조로 변환\n",
        "- 가장 앞에 있는 원소보다 작은 원소 하나씩 빼면서 개수 세기"
      ],
      "metadata": {
        "id": "d9OVD78DbfXr"
      }
    },
    {
      "cell_type": "code",
      "source": [
        "import math\n",
        "from collections import deque\n",
        "\n",
        "def solution(p, s):\n",
        "    ans = []\n",
        "    d = deque([math.ceil((100 - p[i])/s[i]) for i in range(len(p))])\n",
        "    \n",
        "    while d:\n",
        "        cnt = 1\n",
        "        temp = d.popleft()\n",
        "        while d and temp >= d[0]:\n",
        "            d.popleft()\n",
        "            cnt += 1\n",
        "        ans.append(cnt)\n",
        "    return ans"
      ],
      "metadata": {
        "id": "f1gABCe7LQnn"
      },
      "execution_count": 30,
      "outputs": []
    },
    {
      "cell_type": "code",
      "source": [],
      "metadata": {
        "id": "p5Hy5-PLiwwb"
      },
      "execution_count": null,
      "outputs": []
    }
  ]
}