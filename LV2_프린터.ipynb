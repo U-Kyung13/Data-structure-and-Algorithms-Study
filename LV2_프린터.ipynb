{
  "nbformat": 4,
  "nbformat_minor": 0,
  "metadata": {
    "colab": {
      "provenance": [],
      "authorship_tag": "ABX9TyN0caEVyymli6CfAwpkXlsQ",
      "include_colab_link": true
    },
    "kernelspec": {
      "name": "python3",
      "display_name": "Python 3"
    },
    "language_info": {
      "name": "python"
    }
  },
  "cells": [
    {
      "cell_type": "markdown",
      "metadata": {
        "id": "view-in-github",
        "colab_type": "text"
      },
      "source": [
        "<a href=\"https://colab.research.google.com/github/U-Kyung13/Data-structure-and-Algorithms-Study/blob/main/LV2_%ED%94%84%EB%A6%B0%ED%84%B0.ipynb\" target=\"_parent\"><img src=\"https://colab.research.google.com/assets/colab-badge.svg\" alt=\"Open In Colab\"/></a>"
      ]
    },
    {
      "cell_type": "markdown",
      "source": [
        "채점 결과\n",
        "\n",
        "\n",
        "정확성: 20.0\n",
        "\n",
        "\n",
        "합계: 20.0 / 100.0"
      ],
      "metadata": {
        "id": "PBQCH3oIBPvg"
      }
    },
    {
      "cell_type": "code",
      "execution_count": 19,
      "metadata": {
        "id": "mDJ8O3TBUecK"
      },
      "outputs": [],
      "source": [
        "def solution(p, l):\n",
        "    cnt = 1\n",
        "    cnt += sum([x > p[l] for x in p])\n",
        "\n",
        "    idx = []\n",
        "    for i, v in enumerate(p):\n",
        "        if v > p[l]:\n",
        "            idx.append(i)\n",
        "    if idx != []:\n",
        "        cnt += len(p[max(idx)+1:])\n",
        "    return cnt"
      ]
    },
    {
      "cell_type": "markdown",
      "source": [
        "채점 결과 \n",
        "\n",
        "\n",
        "정확성: 50.0\n",
        "\n",
        "\n",
        "합계: 50.0 / 100.0"
      ],
      "metadata": {
        "id": "rgzX3E-wBKDk"
      }
    },
    {
      "cell_type": "code",
      "source": [
        "def solution(p, l):\n",
        "    # 해당 location의 priorities 값\n",
        "    p_val = p[l] \n",
        "    # 주어진 location보다 앞에 있으면서 동일한 우선순위를 갖는 프린터 개수\n",
        "    p_same = sum([x == p[l] for x in p[:l]]) \n",
        "    # 더 높은 우선순위를 갖는 프린터 중 \n",
        "    # 가장 뒤에 있는 프린터보다 \n",
        "    # 뒤에 있으면서 동일한 우선순위를 갖는 프린터 개수 \n",
        "    # 1) 더 높은 우선순위의 프린터 index\n",
        "    idx = []\n",
        "    for i, v in enumerate(p):\n",
        "        if v > p[l]:\n",
        "            idx.append(i)\n",
        "    # 2) 주어진 프린터가 가장 높은 우선순위일땐 더할 필요 없음\n",
        "    if idx != []:\n",
        "        p_same += sum([x==p[l] for x in p[max(idx)+1:]])\n",
        "        \n",
        "    # priorities 순서로 정렬\n",
        "    i = 0\n",
        "    while i < len(p):\n",
        "        if sum([x > p[i] for x in p[i+1:]]) == 0:\n",
        "            i += 1\n",
        "        else:\n",
        "            p[i:-1], p[-1] = p[i+1:], p[i]\n",
        "    \n",
        "    return p.index(p_val) + p_same + 1"
      ],
      "metadata": {
        "id": "_jTNj0VLsz07"
      },
      "execution_count": 106,
      "outputs": []
    },
    {
      "cell_type": "markdown",
      "source": [
        "- 큐(선입선출)\n",
        "  - **from collections import deque**\n",
        "  - **popleft**(), **appendleft**(x) \n",
        "    - 시간복잡도 : O(1) \n",
        "    - list 자료구조보다 성능이 좋음\n",
        "\n",
        "- 우선순위와 인덱스를 튜플 형태로 deque에 저장한 뒤, 중요도가 제일 높아면 출력하고, 아니라면 다시 deque에 저장하는 식"
      ],
      "metadata": {
        "id": "2I444CDlDna3"
      }
    },
    {
      "cell_type": "code",
      "source": [
        "from collections import deque\n",
        "def solution(p, l):\n",
        "  # 요청한 문서가 인쇄되는 순번\n",
        "  turn = 0\n",
        "\n",
        "  # (우선순위, 인덱스)를 queue 자료구조에 저장\n",
        "  q = deque([(v, i) for i, v in enumerate(p)])\n",
        "\n",
        "  # queue에 값이 존재할때까지 while loop\n",
        "  while q:\n",
        "    # 맨 앞 문서보다 중요도가 더 큰 문서가 있다면 맨 뒤로 보낸다\n",
        "    if q[0][0] < max(q)[0]:\n",
        "      q.append(q.popleft())\n",
        "    # 중요도가 가장 높은 문서를 출력\n",
        "    else:\n",
        "      # 출력 될때마다 차례를 1씩 증가시킴\n",
        "      turn += 1\n",
        "\n",
        "      # 요청한 문서가 출력되면 인쇄를 멈추고 차례 반환\n",
        "      if l == q.popleft()[1]:\n",
        "        break\n",
        "\n",
        "    return turn "
      ],
      "metadata": {
        "id": "IxVIVkaDE3s7"
      },
      "execution_count": 131,
      "outputs": []
    }
  ]
}